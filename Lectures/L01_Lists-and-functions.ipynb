{
 "cells": [
  {
   "cell_type": "markdown",
   "id": "fb272a46-4330-4c6f-bf2d-56b87d1a3ce0",
   "metadata": {},
   "source": [
    "# Variables\n",
    "A variable is like an empty box with a unique name that stores a value(s). To define a variable with the name X and store a value x, the syntax is `X = x`. Once we define a new variable with the same name X, the old X vanishes. <br>\n",
    "The `print()` command is used to print a variable/constant. The content that we want to print, i.e., to show in the output goes inside the round braces of the `print()` command. "
   ]
  },
  {
   "cell_type": "code",
   "execution_count": 7,
   "id": "79a725e4-2b40-42b8-a513-22a3a92d3dd9",
   "metadata": {},
   "outputs": [],
   "source": [
    "a = 2\n",
    "b = 2"
   ]
  },
  {
   "cell_type": "code",
   "execution_count": 2,
   "id": "9394adc8-9695-4cd1-af27-dba215fdb1d3",
   "metadata": {},
   "outputs": [
    {
     "name": "stdout",
     "output_type": "stream",
     "text": [
      "2\n"
     ]
    }
   ],
   "source": [
    "print(a)"
   ]
  },
  {
   "cell_type": "code",
   "execution_count": 4,
   "id": "ac4d1b98-d4c4-4ffd-b373-e3aa2dc57431",
   "metadata": {},
   "outputs": [
    {
     "name": "stdout",
     "output_type": "stream",
     "text": [
      "2\n"
     ]
    }
   ],
   "source": [
    "print(b)"
   ]
  },
  {
   "cell_type": "code",
   "execution_count": 3,
   "id": "daa5fa31-a860-45b0-8129-dd89dae7c932",
   "metadata": {},
   "outputs": [
    {
     "name": "stdout",
     "output_type": "stream",
     "text": [
      "4\n"
     ]
    }
   ],
   "source": [
    "print(a+b)"
   ]
  },
  {
   "cell_type": "code",
   "execution_count": 5,
   "id": "5717a308-a286-43a6-b5c4-2af84f22374e",
   "metadata": {},
   "outputs": [
    {
     "name": "stdout",
     "output_type": "stream",
     "text": [
      "4\n"
     ]
    }
   ],
   "source": [
    "a = 4\n",
    "print(a)"
   ]
  },
  {
   "cell_type": "markdown",
   "id": "30bfcaca-9e9b-45c0-af87-9eccb5321785",
   "metadata": {},
   "source": [
    "a = a+2\n",
    "print(a)"
   ]
  },
  {
   "cell_type": "code",
   "execution_count": 8,
   "id": "f99da6f5-b56c-4243-9b04-9a3273e4bee6",
   "metadata": {},
   "outputs": [
    {
     "name": "stdout",
     "output_type": "stream",
     "text": [
      "4\n"
     ]
    }
   ],
   "source": [
    "print(a**2)"
   ]
  }
 ],
 "metadata": {
  "kernelspec": {
   "display_name": "Python 3 (ipykernel)",
   "language": "python",
   "name": "python3"
  },
  "language_info": {
   "codemirror_mode": {
    "name": "ipython",
    "version": 3
   },
   "file_extension": ".py",
   "mimetype": "text/x-python",
   "name": "python",
   "nbconvert_exporter": "python",
   "pygments_lexer": "ipython3",
   "version": "3.11.9"
  }
 },
 "nbformat": 4,
 "nbformat_minor": 5
}
